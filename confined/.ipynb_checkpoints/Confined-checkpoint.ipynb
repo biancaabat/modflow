{
 "cells": [
  {
   "cell_type": "code",
   "execution_count": 16,
   "metadata": {
    "collapsed": true
   },
   "outputs": [],
   "source": [
    "%matplotlib inline  \n",
    "import numpy as np                                                                  \n",
    "import flopy"
   ]
  },
  {
   "cell_type": "code",
   "execution_count": 22,
   "metadata": {},
   "outputs": [
    {
     "ename": "SyntaxError",
     "evalue": "invalid character in identifier (<ipython-input-22-86f927ab5f89>, line 3)",
     "output_type": "error",
     "traceback": [
      "\u001b[0;36m  File \u001b[0;32m\"<ipython-input-22-86f927ab5f89>\"\u001b[0;36m, line \u001b[0;32m3\u001b[0m\n\u001b[0;31m    mf = flopy.modflow.Modflow(modelname, exe_name=’mf2005’)\u001b[0m\n\u001b[0m                                                          ^\u001b[0m\n\u001b[0;31mSyntaxError\u001b[0m\u001b[0;31m:\u001b[0m invalid character in identifier\n"
     ]
    }
   ],
   "source": [
    "# Assign name and create modflow model object                                    \n",
    "modelname = 'confined'                                                          \n",
    "mf = flopy.modflow.Modflow(modelname, exe_name=’mf2005’)"
   ]
  },
  {
   "cell_type": "code",
   "execution_count": 19,
   "metadata": {
    "collapsed": true
   },
   "outputs": [],
   "source": [
    "# Model domain and grid definition\n",
    "# What do each one of these lines do? \n",
    "Lx = 1000.                                                                       \n",
    "Ly = 1000.                                                                       \n",
    "ztop = 0.                                                                        \n",
    "zbot = -50.                                                                      \n",
    "nlay = 1                                                                         \n",
    "nrow = 10                                                                        \n",
    "ncol = 10                                                                        \n",
    "delr = Lx/ncol                                                                   \n",
    "delc = Ly/nrow                                                                   \n",
    "delv = (ztop - zbot) / nlay                                                      \n",
    "botm = np.linspace(ztop, zbot, nlay + 1)"
   ]
  },
  {
   "cell_type": "code",
   "execution_count": 20,
   "metadata": {},
   "outputs": [
    {
     "name": "stdout",
     "output_type": "stream",
     "text": [
      "WARNING: unit 11 of package DIS already in use\n",
      "****Warning -- two packages of the same type:  <class 'flopy.modflow.mfdis.ModflowDis'> <class 'flopy.modflow.mfdis.ModflowDis'>\n",
      "replacing existing Package...\n"
     ]
    }
   ],
   "source": [
    "# Create the discretization object\n",
    "dis = flopy.modflow.ModflowDis(mf, nlay, nrow, ncol, delr=delr, delc=delc,\n",
    "                               top=ztop, botm=botm[1:])"
   ]
  },
  {
   "cell_type": "code",
   "execution_count": null,
   "metadata": {
    "collapsed": true
   },
   "outputs": [],
   "source": [
    "# Variables for the BAS package\n",
    "ibound = np.ones((nlay, nrow, ncol), dtype=np.int32)\n",
    "ibound[:, :, 0] = -1\n",
    "ibound[:, :, -1] = -1\n",
    "strt = np.ones((nlay, nrow, ncol), dtype=np.float32)\n",
    "strt[:, :, 0] = 10.\n",
    "strt[:, :, -1] = 0.\n",
    "bas = flopy.modflow.ModflowBas(mf, ibound=ibound, strt=strt)"
   ]
  },
  {
   "cell_type": "code",
   "execution_count": null,
   "metadata": {
    "collapsed": true
   },
   "outputs": [],
   "source": [
    "# Add LPF package to the MODFLOW model                                           \n",
    "lpf = flopy.modflow.ModflowLpf(mf, hk=10., vka=10., ipakcb=53) #what does ipakcb do?"
   ]
  },
  {
   "cell_type": "code",
   "execution_count": null,
   "metadata": {
    "collapsed": true
   },
   "outputs": [],
   "source": [
    "# Add OC package to the MODFLOW model\n",
    "spd = {(0, 0): ['print head', 'print budget', 'save head', 'save budget']} #What is this?\n",
    "oc = flopy.modflow.ModflowOc(mf, stress_period_data=spd, compact=True)"
   ]
  },
  {
   "cell_type": "code",
   "execution_count": null,
   "metadata": {},
   "outputs": [],
   "source": [
    "# Add PCG package to the MODFLOW model\n",
    "pcg = flopy.modflow.ModflowPcg(mf)"
   ]
  },
  {
   "cell_type": "code",
   "execution_count": null,
   "metadata": {},
   "outputs": [],
   "source": [
    "# Post process the results                                                       \n",
    "import matplotlib.pyplot as plt                                                  \n",
    "import flopy.utils.binaryfile as bf                                              \n",
    "fig = plt.figure(figsize=(10,10))                                                \n",
    "ax = fig.add_subplot(1, 1, 1, aspect='equal')                                    \n",
    "                                                                                  \n",
    "hds = bf.HeadFile(modelname+'.hds')                                              \n",
    "times = hds.get_times()                                                          \n",
    "head = hds.get_data(totim=times[-1])                                             \n",
    "levels = np.linspace(0, 10, 11)                                                  \n",
    "                                                                                  \n",
    "cbb = bf.CellBudgetFile(modelname+'.cbc')                                        \n",
    "kstpkper_list = cbb.get_kstpkper()                                               \n",
    "frf = cbb.get_data(text='FLOW RIGHT FACE', totim=times[-1])[0]                   \n",
    "fff = cbb.get_data(text='FLOW FRONT FACE', totim=times[-1])[0]                   \n",
    "                                                                                  \n",
    "modelmap = flopy.plot.ModelMap(model=mf, layer=0)                                \n",
    "qm = modelmap.plot_ibound()                                                      \n",
    "lc = modelmap.plot_grid()                                                        \n",
    "cs = modelmap.contour_array(head, levels=levels)                                 \n",
    "quiver = modelmap.plot_discharge(frf, fff, head=head)                            \n",
    "plt.show()# Run the MODFLOW model\n",
    "success, buff = mf.run_model()"
   ]
  },
  {
   "cell_type": "code",
   "execution_count": null,
   "metadata": {
    "collapsed": true
   },
   "outputs": [],
   "source": []
  },
  {
   "cell_type": "code",
   "execution_count": null,
   "metadata": {
    "collapsed": true
   },
   "outputs": [],
   "source": []
  }
 ],
 "metadata": {
  "kernelspec": {
   "display_name": "Python 3",
   "language": "python",
   "name": "python3"
  },
  "language_info": {
   "codemirror_mode": {
    "name": "ipython",
    "version": 3
   },
   "file_extension": ".py",
   "mimetype": "text/x-python",
   "name": "python",
   "nbconvert_exporter": "python",
   "pygments_lexer": "ipython3",
   "version": "3.6.3"
  }
 },
 "nbformat": 4,
 "nbformat_minor": 2
}
