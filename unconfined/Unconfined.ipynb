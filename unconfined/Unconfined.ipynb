{
 "cells": [
  {
   "cell_type": "code",
   "execution_count": 75,
   "metadata": {
    "collapsed": true
   },
   "outputs": [],
   "source": [
    "%matplotlib inline  \n",
    "import numpy as np                                                                  \n",
    "import flopy"
   ]
  },
  {
   "cell_type": "code",
   "execution_count": 76,
   "metadata": {},
   "outputs": [],
   "source": [
    "# Assign name and create modflow model object                                    \n",
    "modelname = 'unconfined'                                                          \n",
    "mf = flopy.modflow.Modflow(modelname, exe_name='/Users/biancawright/modflow/mf2005')"
   ]
  },
  {
   "cell_type": "code",
   "execution_count": 77,
   "metadata": {
    "collapsed": true
   },
   "outputs": [],
   "source": [
    "# Model domain and grid definition \n",
    "Lx = 1000.                                                                       \n",
    "Ly = 1000.                                                                       \n",
    "ztop = 0.                                                                        \n",
    "zbot = -50.                                                                      \n",
    "nlay = 1                                                                         \n",
    "nrow = 10                                                                        \n",
    "ncol = 10                                                                        \n",
    "delr = Lx/ncol                                                                   \n",
    "delc = Ly/nrow                                                                   \n",
    "delv = (ztop - zbot) / nlay                                                      \n",
    "botm = np.linspace(ztop, zbot, nlay + 1)"
   ]
  },
  {
   "cell_type": "code",
   "execution_count": 78,
   "metadata": {
    "collapsed": true
   },
   "outputs": [],
   "source": [
    "nper = 3 # number of model stress periods\n",
    "perlen = [1, 100, 100] # an array fo the stress period lengths\n",
    "nstp = [1, 100, 100] # number of time steps in each stress period\n",
    "steady = [True, False, False] \n",
    "#true/false indicating whether stress period is in steady state"
   ]
  },
  {
   "cell_type": "code",
   "execution_count": 79,
   "metadata": {
    "collapsed": true
   },
   "outputs": [],
   "source": [
    "# Create the discretization object\n",
    "dis = flopy.modflow.ModflowDis(mf, nlay, nrow, ncol, delr=delr, delc=delc,\n",
    "                               top=ztop, botm=botm[1:], nper=nper, perlen=perlen, nstp=nstp, steady=steady)"
   ]
  },
  {
   "cell_type": "code",
   "execution_count": 80,
   "metadata": {
    "collapsed": true
   },
   "outputs": [],
   "source": [
    "# Variables for the BAS package\n",
    "ibound = np.ones((nlay, nrow, ncol), dtype=np.int32)\n",
    "strt = 10.*np.ones((nlay, nrow, ncol), dtype=np.float32)\n",
    "bas = flopy.modflow.ModflowBas(mf, ibound=ibound, strt=strt)"
   ]
  },
  {
   "cell_type": "code",
   "execution_count": 81,
   "metadata": {
    "collapsed": true
   },
   "outputs": [],
   "source": [
    "# hyd conduct, vertical hydr, specific yielf, spec stor, layer\n",
    "hk = 10.\n",
    "vka = 1.\n",
    "sy = 0.1\n",
    "ss = 1.e-4\n",
    "laytyp = 1"
   ]
  },
  {
   "cell_type": "code",
   "execution_count": 82,
   "metadata": {
    "collapsed": true
   },
   "outputs": [],
   "source": [
    "# Add LPF package to the MODFLOW model                                           \n",
    "lpf = flopy.modflow.ModflowLpf(mf, hk=hk, vka=vka, sy=sy, ss=ss, laytyp=laytyp)"
   ]
  },
  {
   "cell_type": "code",
   "execution_count": 83,
   "metadata": {},
   "outputs": [
    {
     "name": "stdout",
     "output_type": "stream",
     "text": [
      "Adding  20 GHBs for stress period 1.\n",
      "Adding  20 GHBs for stress period 2.\n"
     ]
    }
   ],
   "source": [
    "# Make list for stress period 1\n",
    "stageleft = 10. #General head on the left boundary\n",
    "stageright = 10. #General head on the right boundary\n",
    "bound_sp1 = []\n",
    "for il in range(nlay):\n",
    "    condleft = hk * (stageleft - zbot) * delc #conductance on the left boundary\n",
    "    condright = hk * (stageright - zbot) * delc #conductance on the right boundary\n",
    "    for ir in range(nrow):\n",
    "        bound_sp1.append([il, ir, 0, stageleft, condleft])\n",
    "        bound_sp1.append([il, ir, ncol - 1, stageright, condright])\n",
    "print ('Adding ', len(bound_sp1), 'GHBs for stress period 1.')\n",
    "\n",
    "# Make list for stress period 2\n",
    "stageleft = 10.\n",
    "stageright = 0.\n",
    "condleft = hk * (stageleft - zbot) * delc\n",
    "condright = hk * (stageright - zbot) * delc\n",
    "bound_sp2 = []\n",
    "for il in range(nlay):\n",
    "    for ir in range(nrow):\n",
    "        bound_sp2.append([il, ir, 0, stageleft, condleft])\n",
    "        bound_sp2.append([il, ir, ncol - 1, stageright, condright])\n",
    "print ('Adding ', len(bound_sp2), 'GHBs for stress period 2.')\n",
    "\n",
    "# We do not need to add a dictionary entry for stress period 3.\n",
    "# Flopy will automatically take the list from stess period 2 and apply it\n",
    "# to the end of the simulation, if necessary\n",
    "stress_period_data = {0: bound_sp1, 1: bound_sp2}\n",
    "\n",
    "# Create the flopy ghb object\n",
    "ghb = flopy.modflow.ModflowGhb(mf, stress_period_data=stress_period_data)\n"
   ]
  },
  {
   "cell_type": "code",
   "execution_count": 84,
   "metadata": {
    "collapsed": true
   },
   "outputs": [],
   "source": [
    "pumping_rate = -100. # The abstraction must be negative number\n",
    "wel_sp1 = [[0, nrow/2 - 1, ncol/2 - 1, 0.]] # [lay, row, col, flux]\n",
    "wel_sp2 = [[0, nrow/2 - 1, ncol/2 - 1, 0.]] # [lay, row, col, flux]\n",
    "wel_sp3 = [[0, nrow/2 - 1, ncol/2 - 1, pumping_rate]]\n",
    "stress_period_data = {0: wel_sp1, 1: wel_sp2, 2: wel_sp3}\n",
    "wel = flopy.modflow.ModflowWel(mf, stress_period_data=stress_period_data)\n"
   ]
  },
  {
   "cell_type": "code",
   "execution_count": 85,
   "metadata": {
    "collapsed": true
   },
   "outputs": [],
   "source": [
    "spd = {(0, 0): ['print head', 'save head', 'print budget', 'save budget']}\n",
    "oc = flopy.modflow.ModflowOc(mf,stress_period_data=spd)"
   ]
  },
  {
   "cell_type": "code",
   "execution_count": 86,
   "metadata": {
    "collapsed": true
   },
   "outputs": [],
   "source": [
    "# Add PCG package to the MODFLOW model\n",
    "pcg = flopy.modflow.ModflowPcg(mf)"
   ]
  },
  {
   "cell_type": "code",
   "execution_count": 87,
   "metadata": {},
   "outputs": [
    {
     "name": "stdout",
     "output_type": "stream",
     "text": [
      "warning: assuming SpatialReference units are meters\n"
     ]
    }
   ],
   "source": [
    "# Write the MODFLOW model input files\n",
    "mf.write_input()"
   ]
  },
  {
   "cell_type": "code",
   "execution_count": 88,
   "metadata": {},
   "outputs": [],
   "source": [
    "success, mfoutput = mf.run_model(silent=True, pause=False, report=True)\n",
    "if not success:\n",
    "    raise Exception('MODFLOW did not terminate normally.')\n"
   ]
  },
  {
   "cell_type": "code",
   "execution_count": 89,
   "metadata": {},
   "outputs": [
    {
     "name": "stdout",
     "output_type": "stream",
     "text": [
      "Levels:  [1 2 3 4 5 6 7 8 9]\n",
      "Extent:  (50.0, 950.0, 50.0, 950.0)\n",
      "*****Processing time:  1.0\n",
      "Head statistics\n",
      "  min:  10.0\n",
      "  max:  10.0\n",
      "  std:  0.0\n"
     ]
    },
    {
     "name": "stderr",
     "output_type": "stream",
     "text": [
      "/Users/biancawright/anaconda3/lib/python3.6/site-packages/matplotlib/contour.py:1180: UserWarning: No contour levels were found within the data range.\n",
      "  warnings.warn(\"No contour levels were found\"\n"
     ]
    },
    {
     "data": {
      "image/png": "[encoded data removed]",
      "text/plain": [
       "<matplotlib.figure.Figure at 0x113a6c908>"
      ]
     },
     "metadata": {},
     "output_type": "display_data"
    },
    {
     "name": "stdout",
     "output_type": "stream",
     "text": [
      "*****Processing time:  101.0\n",
      "Head statistics\n",
      "  min:  0.0110885\n",
      "  max:  9.99076\n",
      "  std:  3.18494\n"
     ]
    },
    {
     "data": {
      "image/png": "[encoded data removed]",
      "text/plain": [
       "<matplotlib.figure.Figure at 0x11384e710>"
      ]
     },
     "metadata": {},
     "output_type": "display_data"
    },
    {
     "name": "stdout",
     "output_type": "stream",
     "text": [
      "*****Processing time:  201.0\n",
      "Head statistics\n",
      "  min:  0.0109783\n",
      "  max:  9.9907\n",
      "  std:  3.18382\n"
     ]
    },
    {
     "data": {
      "image/png": "[encoded data removed]",
      "text/plain": [
       "<matplotlib.figure.Figure at 0x113c56eb8>"
      ]
     },
     "metadata": {},
     "output_type": "display_data"
    },
    {
     "data": {
      "image/png": "[encoded data removed]",
      "text/plain": [
       "<matplotlib.figure.Figure at 0x113a6c470>"
      ]
     },
     "metadata": {},
     "output_type": "display_data"
    }
   ],
   "source": [
    "#Import the libraries\n",
    "import matplotlib.pyplot as plt                                                  \n",
    "import flopy.utils.binaryfile as bf   \n",
    "\n",
    "# Create the headfile object\n",
    "headobj = bf.HeadFile(modelname+'.hds')\n",
    "times = headobj.get_times()\n",
    "\n",
    "# Setup contour parameters\n",
    "levels = np.arange(1, 10, 1) # same as tutorial 1\n",
    "extent = (delr/2., Lx - delr/2., delc/2., Ly - delc/2.) # same as tutorial 1\n",
    "print ('Levels: ', levels)\n",
    "print ('Extent: ', extent)\n",
    "# Well point\n",
    "wpt = ((float(ncol/2)-0.5)*delr, (float(nrow/2-1)+0.5)*delc)\n",
    "wpt = (450., 550.)\n",
    "\n",
    "# Make the plots\n",
    "mytimes = [1.0, 101.0, 201.0]\n",
    "for iplot, time in enumerate(mytimes):\n",
    "    print ('*****Processing time: ', time)\n",
    "    head = headobj.get_data(totim=time)\n",
    "    #Print statistics\n",
    "    print ('Head statistics')\n",
    "    print ('  min: ', head.min() )\n",
    "    print ('  max: ', head.max() )\n",
    "    print ('  std: ', head.std() ) \n",
    "\n",
    "    #Create the plot\n",
    "    #plt.subplot(1, len(mytimes), iplot + 1, aspect='equal')\n",
    "    plt.subplot(1, 1, 1, aspect='equal')\n",
    "    plt.title('stress period ' + str(iplot + 1)) # plot title\n",
    "    plt.imshow(head[0, :, :], extent=extent, cmap='BrBG', vmin=0., vmax=10.)\n",
    "    plt.colorbar() # plot colourbar\n",
    "    CS = plt.contour(np.flipud(head[0, :, :]), levels=levels, extent=extent,\n",
    "                     zorder=10)\n",
    "    plt.clabel(CS, inline=1, fontsize=10, fmt='%1.1f', zorder=11)\t# plot contour label\n",
    "    mfc = 'None'\n",
    "    if (iplot+1) == len(mytimes):\n",
    "        mfc='black'\n",
    "    plt.plot(wpt[0], wpt[1], lw=0, marker='o', markersize=8,\n",
    "             markeredgewidth=0.5,\n",
    "             markeredgecolor='black', markerfacecolor=mfc, zorder=9)\n",
    "    plt.text(wpt[0]+25, wpt[1]-25, 'well', size=12, zorder=12)\n",
    "    plt.show()\n",
    "\n",
    "plt.show() # same as tutorial1\n",
    "\n",
    "# Plot the head versus time\n",
    "idx = (0, nrow/2 - 1, ncol/2 - 1)\n",
    "ts = headobj.get_ts(idx)\n",
    "plt.subplot(1, 1, 1)\n",
    "ttl = 'Head at cell ({0},{1},{2})'.format(idx[0] + 1, idx[1] + 1, idx[2] + 1)\n",
    "plt.title(ttl)\n",
    "plt.xlabel('time')\n",
    "plt.ylabel('head')\n",
    "plt.plot(ts[:, 0], ts[:, 1])\n",
    "plt.show()\n"
   ]
  },
  {
   "cell_type": "code",
   "execution_count": null,
   "metadata": {
    "collapsed": true
   },
   "outputs": [],
   "source": []
  }
 ],
 "metadata": {
  "kernelspec": {
   "display_name": "Python 3",
   "language": "python",
   "name": "python3"
  },
  "language_info": {
   "codemirror_mode": {
    "name": "ipython",
    "version": 3
   },
   "file_extension": ".py",
   "mimetype": "text/x-python",
   "name": "python",
   "nbconvert_exporter": "python",
   "pygments_lexer": "ipython3",
   "version": "3.6.3"
  }
 },
 "nbformat": 4,
 "nbformat_minor": 2
}
